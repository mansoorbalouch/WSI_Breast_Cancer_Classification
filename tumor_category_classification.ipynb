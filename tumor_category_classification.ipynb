{
 "cells": [
  {
   "cell_type": "code",
   "execution_count": null,
   "metadata": {},
   "outputs": [],
   "source": [
    "import torch\n",
    "from torchvision import transforms\n",
    "from PIL import Image\n",
    "from TransMIL import * \n",
    "from TransMIL.models import TransMIL\n",
    "\n",
    "# Assume you have a function to load the model and it's been trained or a pre-trained model is loaded\n",
    "model = TransMIL()\n",
    "model.load_state_dict(torch.load('trans_mil_model.pth'))\n",
    "model.eval()\n",
    "\n",
    "# Image preprocessing\n",
    "transform = transforms.Compose([\n",
    "    transforms.Resize((224, 224)),  # Resize if necessary\n",
    "    transforms.ToTensor(),\n",
    "    transforms.Normalize([0.485, 0.456, 0.406], [0.229, 0.224, 0.225])\n",
    "])\n",
    "\n",
    "def classify_patch(image_path):\n",
    "    image = Image.open(image_path).convert('RGB')\n",
    "    image = transform(image).unsqueeze(0)  # Add batch dimension\n",
    "    with torch.no_grad():\n",
    "        outputs = model(image)\n",
    "        _, predicted = torch.max(outputs, 1)\n",
    "    return predicted.item()\n",
    "\n",
    "\n",
    "# create file directory structure and train-test split (one time run when the file structure is not created)\n",
    "main_dir = \"/media/ist/Drive2/MANSOOR/Neuroimaging-Project/Breast_Cancer_Classification_Project\"\n",
    "\n",
    "tiles_dir =  f\"{main_dir}/test_tiles\" \n",
    "save_model_path = f\"{main_dir}/WSI_Breast_Cancer_Classification/Model_Weights\"\n",
    "\n",
    "# Example usage\n",
    "image_path = f'{tiles_dir}/n_14_test/SUB_n_14_tile_(6_38).png'\n",
    "prediction = classify_patch(image_path)\n",
    "print(\"Predicted class:\", \"Benign\" if prediction == 0 else \"Malignant\")\n"
   ]
  }
 ],
 "metadata": {
  "kernelspec": {
   "display_name": "DL-venv",
   "language": "python",
   "name": "python3"
  },
  "language_info": {
   "codemirror_mode": {
    "name": "ipython",
    "version": 3
   },
   "file_extension": ".py",
   "mimetype": "text/x-python",
   "name": "python",
   "nbconvert_exporter": "python",
   "pygments_lexer": "ipython3",
   "version": "3.12.3"
  }
 },
 "nbformat": 4,
 "nbformat_minor": 2
}
